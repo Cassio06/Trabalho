{
  "nbformat": 4,
  "nbformat_minor": 0,
  "metadata": {
    "colab": {
      "provenance": []
    },
    "kernelspec": {
      "name": "python3",
      "display_name": "Python 3"
    },
    "language_info": {
      "name": "python"
    }
  },
  "cells": [
    {
      "cell_type": "code",
      "execution_count": 14,
      "metadata": {
        "colab": {
          "base_uri": "https://localhost:8080/",
          "height": 110
        },
        "id": "KW-_jZP9K8dH",
        "outputId": "e1f3325c-59f2-4ab9-a452-48c9e35d9a05"
      },
      "outputs": [
        {
          "output_type": "error",
          "ename": "SyntaxError",
          "evalue": "invalid syntax (<ipython-input-14-8ccd173a8ca8>, line 15)",
          "traceback": [
            "\u001b[0;36m  File \u001b[0;32m\"<ipython-input-14-8ccd173a8ca8>\"\u001b[0;36m, line \u001b[0;32m15\u001b[0m\n\u001b[0;31m    else Funcao == Fazer_User_Professor:\u001b[0m\n\u001b[0m    ^\u001b[0m\n\u001b[0;31mSyntaxError\u001b[0m\u001b[0;31m:\u001b[0m invalid syntax\n"
          ]
        }
      ],
      "source": [
        "Senha_Correta = \"admin\"\n",
        "User_Correto = \"admin\"\n",
        "User = str(input('Usuario '))\n",
        "Senha = str(input('Senha '))\n",
        "if User == User_Correto and Senha == Senha_Correta:\n",
        "  print(\"Tudo Certo\")\n",
        "\n",
        "  Fazer_User = \"1\"\n",
        "  Fazer_User_Professor = \"2\"\n",
        "  Fazer_User_Aluno = \"3\"\n",
        "  Calculador = \"4\"\n",
        "  Funcao = int(input(\"Qual função sera feito uso? \"))\n",
        "  if Funcao == Fazer_User:\n",
        "    Cadastro_Direto = str(input('Diga um usuario e senha para ser cadastrado '))\n",
        "    else Funcao == Fazer_User_Professor:\n",
        "      Cadastro do Professor = str(input('Diga um usuario e senha para um professor '))\n",
        "      else Funcao == Fazer_User_Aluno:\n",
        "        Cadastro Aluno = str(input('Diga um usuario e senha para um aluno '))\n",
        "        else Funcao == Calculadora\n",
        "\n",
        "else:\n",
        "  print(\"Usuario ou Senha incorreto\")\n"
      ]
    }
  ]
}